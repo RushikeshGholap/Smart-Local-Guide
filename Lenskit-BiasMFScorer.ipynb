{
 "cells": [
  {
   "cell_type": "code",
   "execution_count": 1,
   "id": "37c9809d-9a39-4bbd-8106-c742eee535e2",
   "metadata": {},
   "outputs": [],
   "source": [
    "import warnings\n",
    "warnings.simplefilter(\"ignore\")\n",
    "import gzip\n",
    "import json\n",
    "import pandas as pd\n",
    "import matplotlib.pyplot as plt\n",
    "\n",
    "import numpy as np\n",
    "import geopandas as gpd\n",
    "\n",
    "from collections import Counter\n"
   ]
  },
  {
   "cell_type": "code",
   "execution_count": null,
   "id": "977b3e9a-2cd6-4d2d-aaf2-bcc258c98ae1",
   "metadata": {},
   "outputs": [],
   "source": [
    "import pandas as pd\n",
    "from sqlalchemy import create_engine\n",
    "\n",
    "# Example connection string (modify based on your database)\n",
    "DB_HOST = \"localhost\"  # e.g., \"localhost\"\n",
    "DB_PORT = \"5432\"  # Default PostgreSQL port\n",
    "DB_NAME = \"Capstone\"\n",
    "DB_USER = \"postgres\"\n",
    "DB_PASSWORD = \"Google#13\"\n",
    "TABLE_NAME = \"main_new\"\n",
    "CHUNK_SIZE = 600  # Adjust as needed\n",
    "\n",
    "# Create a SQLAlchemy engine\n",
    "engine = create_engine(f\"postgresql+psycopg2://{DB_USER}:{DB_PASSWORD}@{DB_HOST}:{DB_PORT}/{DB_NAME}\")\n",
    "\n",
    "# SQL query to fetch user_id and text\n",
    "query = \"SELECT user_id, id as item_id, rating, time as timestamp  FROM public.main_new where category like '%%restaurant%%' ;\"\n",
    "\n",
    "# Read into DataFrame\n",
    "df = pd.read_sql(query, engine)\n",
    "\n"
   ]
  },
  {
   "cell_type": "code",
   "execution_count": 5,
   "id": "55c6b4b2-e70d-4855-8908-481be0c5f9b9",
   "metadata": {},
   "outputs": [],
   "source": [
    "df.to_csv(\"Modified_Reviews_Metadta.csv\")"
   ]
  },
  {
   "cell_type": "code",
   "execution_count": 13,
   "id": "d86a56f7-8bc6-490e-9256-bcc7e7dfb81d",
   "metadata": {},
   "outputs": [],
   "source": [
    "df['user_id'] = df['user_id'].astype(str)\n",
    "df['item_id'] = df['item_id'].astype(str)\n"
   ]
  },
  {
   "cell_type": "code",
   "execution_count": 15,
   "id": "659ebc8e-d3d6-4aa9-a4b1-8ec2ddfcbca5",
   "metadata": {},
   "outputs": [
    {
     "name": "stdout",
     "output_type": "stream",
     "text": [
      "<class 'pandas.core.frame.DataFrame'>\n",
      "RangeIndex: 6133627 entries, 0 to 6133626\n",
      "Data columns (total 4 columns):\n",
      " #   Column     Dtype         \n",
      "---  ------     -----         \n",
      " 0   user_id    object        \n",
      " 1   item_id    object        \n",
      " 2   rating     float64       \n",
      " 3   timestamp  datetime64[ns]\n",
      "dtypes: datetime64[ns](1), float64(1), object(2)\n",
      "memory usage: 187.2+ MB\n"
     ]
    }
   ],
   "source": [
    "df.info()"
   ]
  },
  {
   "cell_type": "code",
   "execution_count": null,
   "id": "91ee613d-22e8-4d59-baa2-de21e4a62eda",
   "metadata": {},
   "outputs": [],
   "source": [
    "# To use the Lenskit algorithm and fraction of 0.2 removed users with reviewed items less than 20\n",
    "\n",
    "filtered_df = df.groupby([\"user_id\"]).filter(lambda x: len(x) >= 20)"
   ]
  },
  {
   "cell_type": "code",
   "execution_count": 21,
   "id": "f2b1151b-88ee-41a4-bf14-0382b8c4b825",
   "metadata": {},
   "outputs": [
    {
     "data": {
      "text/html": [
       "<div>\n",
       "<style scoped>\n",
       "    .dataframe tbody tr th:only-of-type {\n",
       "        vertical-align: middle;\n",
       "    }\n",
       "\n",
       "    .dataframe tbody tr th {\n",
       "        vertical-align: top;\n",
       "    }\n",
       "\n",
       "    .dataframe thead th {\n",
       "        text-align: right;\n",
       "    }\n",
       "</style>\n",
       "<table border=\"1\" class=\"dataframe\">\n",
       "  <thead>\n",
       "    <tr style=\"text-align: right;\">\n",
       "      <th></th>\n",
       "      <th>user_id</th>\n",
       "      <th>item_id</th>\n",
       "      <th>rating</th>\n",
       "      <th>timestamp</th>\n",
       "    </tr>\n",
       "  </thead>\n",
       "  <tbody>\n",
       "    <tr>\n",
       "      <th>44</th>\n",
       "      <td>1.1336297284308268e+20</td>\n",
       "      <td>48</td>\n",
       "      <td>4.0</td>\n",
       "      <td>2004-02-19</td>\n",
       "    </tr>\n",
       "    <tr>\n",
       "      <th>45</th>\n",
       "      <td>1.1336297284308268e+20</td>\n",
       "      <td>49</td>\n",
       "      <td>5.0</td>\n",
       "      <td>2004-02-19</td>\n",
       "    </tr>\n",
       "    <tr>\n",
       "      <th>46</th>\n",
       "      <td>1.1336297284308268e+20</td>\n",
       "      <td>50</td>\n",
       "      <td>4.0</td>\n",
       "      <td>2004-02-19</td>\n",
       "    </tr>\n",
       "    <tr>\n",
       "      <th>97</th>\n",
       "      <td>1.1257611969463946e+20</td>\n",
       "      <td>123</td>\n",
       "      <td>4.0</td>\n",
       "      <td>2006-02-17</td>\n",
       "    </tr>\n",
       "    <tr>\n",
       "      <th>111</th>\n",
       "      <td>1.1257611969463946e+20</td>\n",
       "      <td>126</td>\n",
       "      <td>4.0</td>\n",
       "      <td>2006-02-17</td>\n",
       "    </tr>\n",
       "  </tbody>\n",
       "</table>\n",
       "</div>"
      ],
      "text/plain": [
       "                    user_id item_id  rating  timestamp\n",
       "44   1.1336297284308268e+20      48     4.0 2004-02-19\n",
       "45   1.1336297284308268e+20      49     5.0 2004-02-19\n",
       "46   1.1336297284308268e+20      50     4.0 2004-02-19\n",
       "97   1.1257611969463946e+20     123     4.0 2006-02-17\n",
       "111  1.1257611969463946e+20     126     4.0 2006-02-17"
      ]
     },
     "execution_count": 21,
     "metadata": {},
     "output_type": "execute_result"
    }
   ],
   "source": [
    "filtered_df.head()"
   ]
  },
  {
   "cell_type": "markdown",
   "id": "7b5e9272-df44-474a-b515-04614e334499",
   "metadata": {},
   "source": [
    "<h2> Lenskit Implementation</h2>"
   ]
  },
  {
   "cell_type": "code",
   "execution_count": null,
   "id": "b357f1d3-6118-4bfa-a516-5b537c9a3b57",
   "metadata": {},
   "outputs": [],
   "source": [
    "# Import all the libraries\n",
    "from lenskit.als import BiasedMFScorer\n",
    "from lenskit.batch import recommend\n",
    "from lenskit.data import ItemListCollection, UserIDKey, from_interactions_df\n",
    "from lenskit.knn import ItemKNNScorer\n",
    "from lenskit.metrics import NDCG, RBP, RecipRank, RunAnalysis\n",
    "\n",
    "from lenskit.splitting import SampleFrac, crossfold_users\n",
    "from lenskit.pipeline import topn_pipeline"
   ]
  },
  {
   "cell_type": "code",
   "execution_count": null,
   "id": "39dc0b81-4cf9-4647-8250-d44b5718d81a",
   "metadata": {},
   "outputs": [],
   "source": [
    "# Convet the dataset into lenskit supportable format\n",
    "\n",
    "data = from_interactions_df(filtered_df)"
   ]
  },
  {
   "cell_type": "code",
   "execution_count": null,
   "id": "5a3ea589-3c31-4d87-81dd-b4ef30cce47b",
   "metadata": {},
   "outputs": [],
   "source": [
    "model_als = BiasedMFScorer(features=50)\n",
    "pipe_als = topn_pipeline(model_als)"
   ]
  },
  {
   "cell_type": "code",
   "execution_count": null,
   "id": "eb93a49b-a783-4787-95b9-25a112b68bf0",
   "metadata": {},
   "outputs": [],
   "source": [
    "# test data is organized by user\n",
    "all_test = ItemListCollection(UserIDKey)\n",
    "# recommendations will be organized by model and user ID\n",
    "all_recs = ItemListCollection([\"model\", \"user_id\"])\n"
   ]
  },
  {
   "cell_type": "code",
   "execution_count": null,
   "id": "5f3e7b38-f32f-4126-be43-0a59accc8f31",
   "metadata": {},
   "outputs": [],
   "source": [
    "for split in crossfold_users(data, 5, SampleFrac(0.2)):\n",
    "    # collect the test data\n",
    "    all_test.add_from(split.test)\n",
    "\n",
    "    # train the pipeline, cloning first so a fresh pipeline for each split\n",
    "    fit_als = pipe_als.clone()\n",
    "    fit_als.train(split.train)\n",
    "   \n",
    "     # generate recs\n",
    "    als_recs = recommend(fit_als, split.test.keys(), 50)\n",
    "    all_recs.add_from(als_recs, model=\"ALS\")\n"
   ]
  },
  {
   "cell_type": "code",
   "execution_count": null,
   "id": "2f59d151-e513-43af-8b0b-969e41c2a6d6",
   "metadata": {},
   "outputs": [],
   "source": [
    "all_test.to_df().to_csv(\"test_data.csv\")"
   ]
  },
  {
   "cell_type": "code",
   "execution_count": null,
   "id": "7a727785-2536-49dc-aec8-db0bb27cddb4",
   "metadata": {},
   "outputs": [],
   "source": [
    "result = all_recs.to_df()"
   ]
  },
  {
   "cell_type": "code",
   "execution_count": null,
   "id": "85a4be47-d61b-48ca-a784-635ceb90c0b5",
   "metadata": {},
   "outputs": [],
   "source": [
    "result.to_csv(\"results.csv\")"
   ]
  }
 ],
 "metadata": {
  "kernelspec": {
   "display_name": "Python [conda env:base] *",
   "language": "python",
   "name": "conda-base-py"
  },
  "language_info": {
   "codemirror_mode": {
    "name": "ipython",
    "version": 3
   },
   "file_extension": ".py",
   "mimetype": "text/x-python",
   "name": "python",
   "nbconvert_exporter": "python",
   "pygments_lexer": "ipython3",
   "version": "3.12.3"
  }
 },
 "nbformat": 4,
 "nbformat_minor": 5
}
